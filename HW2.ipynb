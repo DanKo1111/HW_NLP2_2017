{
 "cells": [
  {
   "cell_type": "code",
   "execution_count": 13,
   "metadata": {
    "collapsed": false
   },
   "outputs": [
    {
     "data": {
      "text/plain": [
       "[('ВЫДАТЬ', 'САНКЦИЯ'),\n",
       " ('САНКЦИЯ', 'АРЕСТ'),\n",
       " ('СУД', 'ДАТЬ'),\n",
       " ('СУД', 'НАЛОЖИТЬ'),\n",
       " ('СУД', 'НАЧАТЬСЯ'),\n",
       " ('СУД', 'ОТКАЗАТЬ'),\n",
       " ('СУД', 'ПОДТВЕРДИТЬ'),\n",
       " ('СУД', 'ПРОДЛИТЬ'),\n",
       " ('СУД', 'РАССМАТРИВАТЬ'),\n",
       " ('СУД', 'РАССМОТРЕТЬ')]"
      ]
     },
     "execution_count": 13,
     "metadata": {},
     "output_type": "execute_result"
    }
   ],
   "source": [
    "import nltk\n",
    "from nltk.collocations import *\n",
    "bigram_measures = nltk.collocations.BigramAssocMeasures()\n",
    "trigram_measures = nltk.collocations.TrigramAssocMeasures()\n",
    "\n",
    "a = open(\"data.txt\", \"r\", encoding = \"utf-8\")\n",
    "res = []\n",
    "for i in a:\n",
    "    words = i.split(\",\")\n",
    "    res += words\n",
    "    res.append(\"\\n\") #Это стоп-символ\n",
    "    \n",
    "#'chi_sq', 'dice', 'fisher', 'jaccard', 'likelihood_ratio', 'mi_like', 'phi_sq', 'pmi', 'poisson_stirling', 'raw_freq', 'student_t'\n",
    "\n",
    "finder = BigramCollocationFinder.from_words(res)\n",
    "finder.apply_word_filter(lambda w: w == \"\\n\")\n",
    "finder.apply_freq_filter(10)\n",
    "finder.nbest(bigram_measures.fisher, 10)"
   ]
  },
  {
   "cell_type": "code",
   "execution_count": 17,
   "metadata": {
    "collapsed": false
   },
   "outputs": [
    {
     "data": {
      "text/plain": [
       "[('СУД', 'ПРИЗНАТЬ'),\n",
       " ('СУД', 'УДОВЛЕТВОРИТЬ'),\n",
       " ('ВЫДАТЬ', 'САНКЦИЯ'),\n",
       " ('УДОВЛЕТВОРИТЬ', 'ХОДАТАЙСТВО'),\n",
       " ('УДОВЛЕТВОРИТЬ', 'ИСК'),\n",
       " ('ПРИНЯТЬ', 'РЕШЕНИЕ'),\n",
       " ('САНКЦИЯ', 'АРЕСТ'),\n",
       " ('СУД', 'ВЫНЕСТИ'),\n",
       " ('НАЛОЖИТЬ', 'АРЕСТ'),\n",
       " ('СУД', 'ПРИНЯТЬ')]"
      ]
     },
     "execution_count": 17,
     "metadata": {},
     "output_type": "execute_result"
    }
   ],
   "source": [
    "finder = BigramCollocationFinder.from_words(res)\n",
    "finder.apply_word_filter(lambda w: w == \"\\n\")\n",
    "finder.apply_freq_filter(10)\n",
    "finder.nbest(bigram_measures.likelihood_ratio, 10)"
   ]
  },
  {
   "cell_type": "code",
   "execution_count": 14,
   "metadata": {
    "collapsed": false
   },
   "outputs": [],
   "source": [
    "#Методы: точный тест Фишера, log-likelihood\n",
    "#Для коллокаций с частотностью не менее 10 списки для двух методов довольно сильно различаются. \n",
    "# Совпадают только 2 коллокации: \"суд отказать\" - 6 место по Фишеру и 8 по Likelihood и \"суд рассмотреть\" (10 и 9 места соответственно)\n",
    "# Loglikelihood, на мой взгляд, работает лучше, и его коллокации должны быть более частотными."
   ]
  },
  {
   "cell_type": "markdown",
   "metadata": {},
   "source": []
  }
 ],
 "metadata": {
  "kernelspec": {
   "display_name": "Python 3",
   "language": "python",
   "name": "python3"
  },
  "language_info": {
   "codemirror_mode": {
    "name": "ipython",
    "version": 3
   },
   "file_extension": ".py",
   "mimetype": "text/x-python",
   "name": "python",
   "nbconvert_exporter": "python",
   "pygments_lexer": "ipython3",
   "version": "3.6.0"
  }
 },
 "nbformat": 4,
 "nbformat_minor": 2
}
